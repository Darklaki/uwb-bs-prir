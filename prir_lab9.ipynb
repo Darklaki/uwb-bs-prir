{
  "nbformat": 4,
  "nbformat_minor": 0,
  "metadata": {
    "colab": {
      "name": "prir_lab9.ipynb",
      "provenance": [],
      "collapsed_sections": []
    },
    "kernelspec": {
      "name": "python3",
      "display_name": "Python 3"
    },
    "language_info": {
      "name": "python"
    },
    "accelerator": "GPU"
  },
  "cells": [
    {
      "cell_type": "markdown",
      "source": [
        "Instalacja środowiska CUDA"
      ],
      "metadata": {
        "id": "vrh1Us6d6utc"
      }
    },
    {
      "cell_type": "code",
      "execution_count": null,
      "metadata": {
        "id": "ax4yJf3Z4mxZ"
      },
      "outputs": [],
      "source": [
        "!apt-get --purge remove cuda nvidia* libnvidia-*\n",
        "!dpkg -l | grep cuda- | awk '{print $2}' | xargs -n1 dpkg --purge\n",
        "!apt-get remove cuda-*\n",
        "!apt autoremove\n",
        "!apt-get update\n",
        "\n",
        "!wget https://developer.nvidia.com/compute/cuda/9.2/Prod/local_installers/cuda-repo-ubuntu1604-9-2-local_9.2.88-1_amd64 -O cuda-repo-ubuntu1604-9-2-local_9.2.88-1_amd64.deb\n",
        "!dpkg -i cuda-repo-ubuntu1604-9-2-local_9.2.88-1_amd64.deb\n",
        "!apt-key add /var/cuda-repo-9-2-local/7fa2af80.pub\n",
        "!apt-get update\n",
        "!apt-get install cuda-9.2\n",
        "\n",
        "!nvcc --version"
      ]
    },
    {
      "cell_type": "markdown",
      "source": [
        "Ładowanie rozszerzenia"
      ],
      "metadata": {
        "id": "ALa2OOb4604y"
      }
    },
    {
      "cell_type": "code",
      "source": [
        "!pip install git+git://github.com/andreinechaev/nvcc4jupyter.git\n",
        "%load_ext nvcc_plugin"
      ],
      "metadata": {
        "colab": {
          "base_uri": "https://localhost:8080/"
        },
        "id": "nxvTQVh69DRK",
        "outputId": "559a47f9-73a4-4d15-9855-7f647679fdd6"
      },
      "execution_count": null,
      "outputs": [
        {
          "output_type": "stream",
          "name": "stdout",
          "text": [
            "Collecting git+git://github.com/andreinechaev/nvcc4jupyter.git\n",
            "  Cloning git://github.com/andreinechaev/nvcc4jupyter.git to /tmp/pip-req-build-4kourdec\n",
            "  Running command git clone -q git://github.com/andreinechaev/nvcc4jupyter.git /tmp/pip-req-build-4kourdec\n",
            "Building wheels for collected packages: NVCCPlugin\n",
            "  Building wheel for NVCCPlugin (setup.py) ... \u001b[?25l\u001b[?25hdone\n",
            "  Created wheel for NVCCPlugin: filename=NVCCPlugin-0.0.2-py3-none-any.whl size=4305 sha256=ea1d92d8470ee387c1f42ce283048a9342d192e8106644a5e6ccf5fdd575c712\n",
            "  Stored in directory: /tmp/pip-ephem-wheel-cache-t_2qspwu/wheels/c5/2b/c0/87008e795a14bbcdfc7c846a00d06981916331eb980b6c8bdf\n",
            "Successfully built NVCCPlugin\n",
            "Installing collected packages: NVCCPlugin\n",
            "Successfully installed NVCCPlugin-0.0.2\n",
            "created output directory at /content/src\n",
            "Out bin /content/result.out\n"
          ]
        }
      ]
    },
    {
      "cell_type": "markdown",
      "source": [
        "Test"
      ],
      "metadata": {
        "id": "v-W8e7dtVpqd"
      }
    },
    {
      "cell_type": "code",
      "source": [
        "%%cu\n",
        "#include <iostream>\n",
        "    int main()\n",
        "{\n",
        "    std::cout << \"Hello from Google Colab!\\n\";\n",
        "    return 0;\n",
        "}"
      ],
      "metadata": {
        "colab": {
          "base_uri": "https://localhost:8080/"
        },
        "id": "VGNODBqQ8lfF",
        "outputId": "920a047b-1d2a-4657-ab5d-f45b88c320e2"
      },
      "execution_count": null,
      "outputs": [
        {
          "output_type": "stream",
          "name": "stdout",
          "text": [
            "Hello from Google Colab!\n",
            "\n"
          ]
        }
      ]
    },
    {
      "cell_type": "markdown",
      "source": [
        "**Liczenie zbioru Mandelbrota na CPU**"
      ],
      "metadata": {
        "id": "9qpPvE9bCts6"
      }
    },
    {
      "cell_type": "code",
      "source": [
        "%%cu\n",
        "#include <chrono>  // obsługa mierzenia czasu w C++\n",
        "#include <iostream> \n",
        "#include <vector>\n",
        "\n",
        "int cpuMandelbrot(double X0, double Y0, double X1, double Y1, int POZ, int PION, int ITER,int *Mandel ){\n",
        "    double dx=(X1-X0)/POZ;\n",
        "    double dy=(Y1-Y0)/PION;\n",
        "    for (int r_y = 0; r_y<PION; r_y++)\n",
        "    {\n",
        "        // Punkt w pionie na płaszczyznie zespolonej\n",
        "        double c_y0 = Y1 - r_y * dy;\n",
        "\n",
        "        for(int r_x = 0; r_x<POZ; r_x++)\n",
        "        {\n",
        "            // Punkt w poziomie na płaszczyznie zespolonej\n",
        "            double c_x0 = X0 + r_x * dx;\n",
        "\n",
        "            double x = 0.0;\n",
        "            double y = 0.0;\n",
        "            int iteracji = 0;\n",
        "\n",
        "            while (x*x + y*y < 2*2 && iteracji < ITER) {\n",
        "                double xtemp = x*x - y*y + c_x0;\n",
        "                y = 2*x*y + c_y0;\n",
        "                x = xtemp;\n",
        "                iteracji += 1;\n",
        "            };\n",
        "            \n",
        "            Mandel[r_y*POZ+r_x] = iteracji;\n",
        "        }\n",
        "\n",
        "    }\n",
        "    return 1;\n",
        "}\n",
        "\n",
        "int main() {\n",
        "  //Ustaw obszar obliczen\n",
        "  //{X0,Y0} - lewy dolny rog\n",
        "  double X0=atof(\"-1.\");\n",
        "  double Y0=atof(\"-1.\");\n",
        "\n",
        "  //{X1,Y1} - prawy gorny rog\n",
        "  double X1=atof(\"1.\");\n",
        "  double Y1=atof(\"1.\");\n",
        "\n",
        "  //Ustal rozmiar w pikselach\n",
        "  //{POZ,PION}\n",
        "  int POZ=atoi(\"3000\");\n",
        "  int PION=atoi(\"3000\");\n",
        "\n",
        "  //Ustal liczbe iteracji probkowania\n",
        "  int ITER=atoi(\"256\");\n",
        "\n",
        "  // Zaalokuj tablice do przechowywania wyniku na CPU\n",
        "  int *host_mandel = (int *) malloc(sizeof(int)*POZ*PION);\n",
        "\n",
        "  int num_of_executions = 25;\n",
        "\n",
        "  // Zdefiniuj timery\n",
        "  time_t start, end;\n",
        "\n",
        "  std::vector<double> cpu_durations = { };\n",
        "\n",
        "  std::chrono::duration<int64_t, std::nano> diff;\n",
        " \n",
        "  for (int i = 0; i < num_of_executions; i++) {\n",
        "    // startujemy pomiar czasu - na rózne sposoby\n",
        "    start=clock();\n",
        "    auto start2 = std::chrono::steady_clock::now();\n",
        "\n",
        "    cpuMandelbrot(X0,Y0,X1,Y1,POZ,PION,ITER,host_mandel);\n",
        "\n",
        "    // konczymy pomiar czasu \n",
        "    auto stop = std::chrono::steady_clock::now();\n",
        "    end=clock();\n",
        "    diff = stop - start2;\n",
        "    cpu_durations.push_back(((double) diff.count() / 1000000000)); // Nanosekundy do sekund      \n",
        "  }\n",
        "\n",
        "  std::cout << \"CPU\" << std::endl;\n",
        "  std::string cpu_string_result = \"\";\n",
        "  for (float result : cpu_durations) {\n",
        "    cpu_string_result.append(std::to_string(result) + \", \");\n",
        "  }\n",
        "  std::cout << cpu_string_result << std::endl;\n",
        "\n",
        " \n",
        " return 0;\n",
        "}\n"
      ],
      "metadata": {
        "colab": {
          "base_uri": "https://localhost:8080/"
        },
        "id": "PnpqPnvg8ZEM",
        "outputId": "7e0d12b6-3580-49e0-b645-8df8e07fddba"
      },
      "execution_count": null,
      "outputs": [
        {
          "output_type": "stream",
          "name": "stdout",
          "text": [
            "CPU\n",
            "7.175024, 7.112954, 7.181449, 7.162680, 7.131800, 7.129289, 7.136329, 7.175058, 7.149242, 7.141355, 7.104564, 7.140340, 7.115874, 7.136297, 7.148814, 7.149102, 7.135401, 7.167239, 7.151696, 7.152233, 7.163439, 7.143386, 7.163455, 7.156902, 7.156501, \n",
            "\n"
          ]
        }
      ]
    },
    {
      "cell_type": "markdown",
      "source": [
        "Wynikiem uruchomienia powyższego kodu na CPU jest następująca sekwencja (oczywiście będzie się minimalnie różnić przy każdym uruchomieniu)\n",
        "```\n",
        "[7.175024, 7.112954, 7.181449, 7.162680, 7.131800, 7.129289, 7.136329, 7.175058, 7.149242, 7.141355, 7.104564, 7.140340, 7.115874, 7.136297, 7.148814, 7.149102, 7.135401, 7.167239, 7.151696, 7.152233, 7.163439, 7.143386, 7.163455, 7.156902, 7.156501]\n",
        "```\n",
        "Możemy ją zwizualizować\n"
      ],
      "metadata": {
        "id": "SG3s9Zo5SjSj"
      }
    },
    {
      "cell_type": "code",
      "source": [
        "import matplotlib.pyplot as plt\n",
        "import numpy as np\n",
        "\n",
        "cpu_result_vector = np.array([7.175024, 7.112954, 7.181449, 7.162680, 7.131800, 7.129289, 7.136329, 7.175058, 7.149242, 7.141355, 7.104564, 7.140340, 7.115874, 7.136297, 7.148814, 7.149102, 7.135401, 7.167239, 7.151696, 7.152233, 7.163439, 7.143386, 7.163455, 7.156902, 7.156501])\n",
        "plt.title(\"Uruchomienia na CPU\")\n",
        "plt.plot(range(0, len(cpu_result_vector)), cpu_result_vector, 'o', )\n",
        "plt.show()\n",
        "print(\"\\n\")\n",
        "print(f\"Średnia {cpu_result_vector.mean()}\")\n",
        "print(f\"Odchylenie standardowe {cpu_result_vector.std()}\")\n",
        "print(f\"Min {cpu_result_vector.min()}\")\n",
        "print(f\"Max {cpu_result_vector.max()}\")\n",
        "\n"
      ],
      "metadata": {
        "colab": {
          "base_uri": "https://localhost:8080/",
          "height": 385
        },
        "id": "pv42OskvOhsL",
        "outputId": "16b52957-d64e-4a41-912a-175606d8abce"
      },
      "execution_count": null,
      "outputs": [
        {
          "output_type": "display_data",
          "data": {
            "image/png": "[encoded data removed]",
            "text/plain": [
              "<Figure size 432x288 with 1 Axes>"
            ]
          },
          "metadata": {
            "needs_background": "light"
          }
        },
        {
          "output_type": "stream",
          "name": "stdout",
          "text": [
            "\n",
            "\n",
            "Średnia 7.147216919999998\n",
            "Odchylenie standardowe 0.019111113840736733\n",
            "Min 7.104564\n",
            "Max 7.181449\n"
          ]
        }
      ]
    },
    {
      "cell_type": "markdown",
      "source": [
        "**Liczenie zbioru Mandelbrota na GPU**"
      ],
      "metadata": {
        "id": "6OrZCGWPVY9L"
      }
    },
    {
      "cell_type": "code",
      "source": [
        "%%cu\n",
        "#include <iostream> \n",
        "#include <vector>\n",
        "\n",
        "__global__ void cudaMandelbrot(double X0, double Y0, double X1, double Y1, int POZ, int PION, int ITER,int *Mandel){\n",
        "  double    dX=(X1-X0)/(POZ);\n",
        "  double    dY=(Y1-Y0)/(PION);\n",
        "  int i = 0;\n",
        "  double x = 0.0;\n",
        "  double y = 0.0;\n",
        "  double Zx,Zy,tZx,tZy;\n",
        "  int idx = threadIdx.x + blockIdx.x * blockDim.x;\n",
        "\tif (idx < PION*POZ) { // wykonujemy obliczenia tylko dla watków przypisanych do probkowanego obszaru\n",
        "        // tu liczymy zbior Mandelbrota\n",
        "        // trzeba pamietac o zmapowaniu liniowej struktury watkow na punkty siatki obliczeniowej\n",
        "\n",
        "        double c_x0 = X0 + (idx % POZ) * dX;\n",
        "        double c_y0 = Y1 - (int)(idx / PION) * dY;\n",
        "        \n",
        "        while (x*x + y*y < 2*2 && i < ITER) {\n",
        "            double xtemp = x*x - y*y + c_x0;\n",
        "            y = 2*x*y + c_y0;\n",
        "            x = xtemp;\n",
        "            i += 1;\n",
        "        };\n",
        "\n",
        "        Mandel[idx] = i;\n",
        "\t}\t\n",
        "}\n",
        "\n",
        "\n",
        "int main() {\n",
        "  //Ustaw obszar obliczen\n",
        "  //{X0,Y0} - lewy dolny rog\n",
        "  double X0=atof(\"-1.\");\n",
        "  double Y0=atof(\"-1.\");\n",
        "\n",
        "  //{X1,Y1} - prawy gorny rog\n",
        "  double X1=atof(\"1.\");\n",
        "  double Y1=atof(\"1.\");\n",
        "\n",
        "  //Ustal rozmiar w pikselach\n",
        "  //{POZ,PION}\n",
        "  int POZ=atoi(\"3000\");\n",
        "  int PION=atoi(\"3000\");\n",
        "\n",
        "  //Ustal liczbe iteracji probkowania\n",
        "  int ITER=atoi(\"256\");\n",
        "\n",
        "  cudaError_t status;\n",
        "  \n",
        "  // Zaalokuj tablice do przechowywania wyniku na GPU i CPU\n",
        "  int *host_mandel = (int *) malloc(sizeof(int)*POZ*PION);\n",
        "  int *device_mandel;\n",
        "  status = cudaMalloc(&device_mandel, sizeof(int)*POZ*PION);\n",
        "  // sprawdz czy alokacja się powiodła \n",
        "  if (status != cudaSuccess) {\n",
        "      std::cout << \"Blad alokacji w pamieci zunifikowanej\\n\";\n",
        "      delete[] host_mandel;\n",
        "      return 0;\n",
        "  }\n",
        "\n",
        "  status = cudaMemcpy(device_mandel, host_mandel, sizeof(int)*POZ*PION, cudaMemcpyHostToDevice);\n",
        "  if (status != cudaSuccess) {\n",
        "      std::cout << \"Blad kopiowania\\n\";\n",
        "      delete[] host_mandel;\n",
        "      cudaFree(device_mandel);\n",
        "      return 0;\n",
        "  }\n",
        "\n",
        "  int num_of_executions = 25;\n",
        "\n",
        "  // Zdefiniuj timery\n",
        "  time_t start, end;\n",
        "\n",
        "  std::vector<double> gpu_durations = { };\n",
        " \n",
        "  for (int i = 0; i < num_of_executions; i++) {\n",
        "    // ustawienia dla cudaMandelbrot\n",
        "    dim3 threadsPerBlock(32,1,1);\n",
        "    dim3 numBlocks(PION*POZ/threadsPerBlock.x+1,1,1);\n",
        "\n",
        "    // Dla GPU pomiar z uzyciem CUDA Events\n",
        "    // Z poradnika: https://developer.nvidia.com/blog/how-implement-performance-metrics-cuda-cc/\n",
        "    cudaEvent_t start, stop;\n",
        "    cudaEventCreate(&start);\n",
        "    cudaEventCreate(&stop);\n",
        "\n",
        "    cudaEventRecord(start);\n",
        "    cudaMandelbrot<<<numBlocks,threadsPerBlock,1>>>(X0,Y0,X1,Y1,POZ,PION,ITER,device_mandel);\n",
        "    cudaEventRecord(stop);\n",
        "\n",
        "    // Zatrymaj egzekujcę CPU do czasu az nie wystapi event \"stop\"\n",
        "    cudaEventSynchronize(stop);\n",
        "    float milliseconds = 0;\n",
        "    cudaEventElapsedTime(&milliseconds, start, stop);\n",
        "    cudaEventDestroy(start);\n",
        "    cudaEventDestroy(stop);\n",
        "    float seconds = milliseconds / 1000;\n",
        "    gpu_durations.push_back(seconds);\n",
        "  }\n",
        "\n",
        "  std::cout << \"GPU\" << std::endl;\n",
        "  std::string gpu_string_result = \"\";\n",
        "  for (float result : gpu_durations) {\n",
        "    gpu_string_result.append(std::to_string(result) + \", \");\n",
        "  }\n",
        "  std::cout << gpu_string_result << std::endl;\n",
        "\n",
        " \n",
        " return 0;\n",
        "}\n",
        "\n"
      ],
      "metadata": {
        "colab": {
          "base_uri": "https://localhost:8080/"
        },
        "id": "6toSSgYtW7cU",
        "outputId": "01e9431a-74a2-40a2-d40c-53f414b28457"
      },
      "execution_count": null,
      "outputs": [
        {
          "output_type": "stream",
          "name": "stdout",
          "text": [
            "GPU\n",
            "0.028287, 0.028171, 0.028174, 0.028170, 0.028171, 0.028171, 0.028173, 0.028183, 0.027027, 0.025234, 0.025233, 0.025231, 0.025242, 0.025230, 0.025243, 0.023576, 0.022871, 0.022868, 0.022871, 0.022863, 0.022865, 0.022860, 0.022006, 0.020550, 0.020543, \n",
            "\n"
          ]
        }
      ]
    },
    {
      "cell_type": "markdown",
      "source": [
        "Wynikiem uruchomienia powyższego kodu na GPU jest następująca sekwencja (ponownie, będzie się minimalnie różnić przy każdym uruchomieniu)\n",
        "```\n",
        "[0.028287, 0.028171, 0.028174, 0.028170, 0.028171, 0.028171, 0.028173, 0.028183, 0.027027, 0.025234, 0.025233, 0.025231, 0.025242, 0.025230, 0.025243, 0.023576, 0.022871, 0.022868, 0.022871, 0.022863, 0.022865, 0.022860, 0.022006, 0.020550, 0.020543]\n",
        "```"
      ],
      "metadata": {
        "id": "nr4E7cSnbLEk"
      }
    },
    {
      "cell_type": "code",
      "source": [
        "import matplotlib.pyplot as plt\n",
        "import numpy as np\n",
        "\n",
        "gpu_result_vector = np.array([0.028287, 0.028171, 0.028174, 0.028170, 0.028171, 0.028171, 0.028173, 0.028183, 0.027027, 0.025234, 0.025233, 0.025231, 0.025242, 0.025230, 0.025243, 0.023576, 0.022871, 0.022868, 0.022871, 0.022863, 0.022865, 0.022860, 0.022006, 0.020550, 0.020543])\n",
        "plt.title(\"Uruchomienia na GPU\")\n",
        "plt.plot(range(0, len(gpu_result_vector)), gpu_result_vector, 'o', )\n",
        "plt.show()\n",
        "print(\"\\n\")\n",
        "print(f\"Średnia {gpu_result_vector.mean()}\")\n",
        "print(f\"Odchylenie standardowe {gpu_result_vector.std()}\")\n",
        "print(f\"Min {gpu_result_vector.min()}\")\n",
        "print(f\"Max {gpu_result_vector.max()}\")"
      ],
      "metadata": {
        "colab": {
          "base_uri": "https://localhost:8080/",
          "height": 385
        },
        "id": "-qb8bcsYbTj1",
        "outputId": "2e61ed38-7857-46ad-ad90-f32853fec8f2"
      },
      "execution_count": null,
      "outputs": [
        {
          "output_type": "display_data",
          "data": {
            "image/png": "[encoded data removed]",
            "text/plain": [
              "<Figure size 432x288 with 1 Axes>"
            ]
          },
          "metadata": {
            "needs_background": "light"
          }
        },
        {
          "output_type": "stream",
          "name": "stdout",
          "text": [
            "\n",
            "\n",
            "Średnia 0.02511252\n",
            "Odchylenie standardowe 0.0025564997652258847\n",
            "Min 0.020543\n",
            "Max 0.028287\n"
          ]
        }
      ]
    },
    {
      "cell_type": "markdown",
      "source": [
        "**Wnioski**\n",
        "\n",
        "Wersja CPU charakteryzuje się dużo mniejszą wydajnością w porównaniu do uruchomień na GPU. Dodatkowo możemy zauważyć, że uruchomienia w CPU są bardziej rozrzucone natomiast każde uruchomienie GPU albo przypomina poprzednie albo jest od poprzedniego szybsze. "
      ],
      "metadata": {
        "id": "t8l40xkHg9m_"
      }
    }
  ]
}